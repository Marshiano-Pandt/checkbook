{
 "cells": [
  {
   "cell_type": "code",
   "execution_count": 4,
   "id": "1860467c-51bd-4c92-b5ca-112185f10025",
   "metadata": {
    "tags": []
   },
   "outputs": [
    {
     "name": "stdout",
     "output_type": "stream",
     "text": [
      "~~~ Welcome to your terminal checkbook! ~~~\n",
      "\n",
      "What would you like to do?\n",
      "1) View current balance\n",
      "2) Record a debit (withdraw)\n",
      "3) Record a credit (deposit)\n",
      "4) Exit\n"
     ]
    },
    {
     "name": "stdin",
     "output_type": "stream",
     "text": [
      "Your choice?  1\n"
     ]
    },
    {
     "name": "stdout",
     "output_type": "stream",
     "text": [
      "Your current balance is $-10.00\n",
      "\n",
      "What would you like to do?\n",
      "1) View current balance\n",
      "2) Record a debit (withdraw)\n",
      "3) Record a credit (deposit)\n",
      "4) Exit\n"
     ]
    },
    {
     "name": "stdin",
     "output_type": "stream",
     "text": [
      "Your choice?  4\n"
     ]
    },
    {
     "name": "stdout",
     "output_type": "stream",
     "text": [
      "Thanks, have a great day!\n"
     ]
    }
   ],
   "source": [
    "import os\n",
    "\n",
    "# Define the filename for the ledger file\n",
    "ledger_file = \"atm_file.txt\"\n",
    "\n",
    "# Initialize the ledger if it doesn't exist\n",
    "if not os.path.exists(ledger_file):\n",
    "    with open(ledger_file, \"w\") as file:\n",
    "        file.write(\"0.00\")\n",
    "def get_balance():\n",
    "    with open(ledger_file, \"r\") as file:\n",
    "        balance = float(file.read())\n",
    "    return balance\n",
    "\n",
    "def record_debit(amount):\n",
    "    balance = get_balance()\n",
    "    with open(ledger_file, \"a\") as file:\n",
    "        file.write(f\"Debit: ${amount:.2f}\\n\")\n",
    "    update_balance(balance - amount)\n",
    "\n",
    "def record_credit(amount):\n",
    "    balance = get_balance()\n",
    "    with open(ledger_file, \"a\") as file:\n",
    "        file.write(f\"Credit: ${amount:.2f}\\n\")\n",
    "    update_balance(balance + amount)\n",
    "\n",
    "def update_balance(new_balance):\n",
    "    with open(ledger_file, \"w\") as file:\n",
    "        file.write(f\"{new_balance:.2f}\")\n",
    "\n",
    "def main():\n",
    "    print(\"~~~ Welcome to your terminal checkbook! ~~~\")\n",
    "\n",
    "    while True:\n",
    "        print(\"\\nWhat would you like to do?\")\n",
    "        print(\"1) View current balance\")\n",
    "        print(\"2) Record a debit (withdraw)\")\n",
    "        print(\"3) Record a credit (deposit)\")\n",
    "        print(\"4) Exit\")\n",
    "\n",
    "        choice = input(\"Your choice? \")\n",
    "\n",
    "        if choice == \"1\":\n",
    "            balance = get_balance()\n",
    "            print(f\"Your current balance is ${balance:.2f}\")\n",
    "\n",
    "        elif choice == \"2\":\n",
    "            while True:\n",
    "                try:\n",
    "                    amount = float(input(\"How much is the debit? $\"))\n",
    "                    record_debit(amount)\n",
    "                    print(\"Debit recorded.\")\n",
    "                    break\n",
    "                except ValueError:\n",
    "                    print(\"Invalid input. Please enter a valid number.\")\n",
    "\n",
    "        elif choice == \"3\":\n",
    "            while True:\n",
    "                try:\n",
    "                    amount = float(input(\"How much is the credit? $\"))\n",
    "                    record_credit(amount)\n",
    "                    print(\"Credit recorded.\")\n",
    "                    break\n",
    "                except ValueError:\n",
    "                    print(\"Invalid input. Please enter a valid number.\")\n",
    "\n",
    "        elif choice == \"4\":\n",
    "            print(\"Thanks, have a great day!\")\n",
    "            break\n",
    "\n",
    "        else:\n",
    "            print(\"Invalid choice:\", choice)\n",
    "\n",
    "if __name__ == \"__main__\":\n",
    "    main()\n"
   ]
  }
 ],
 "metadata": {
  "kernelspec": {
   "display_name": "Python 3 (ipykernel)",
   "language": "python",
   "name": "python3"
  },
  "language_info": {
   "codemirror_mode": {
    "name": "ipython",
    "version": 3
   },
   "file_extension": ".py",
   "mimetype": "text/x-python",
   "name": "python",
   "nbconvert_exporter": "python",
   "pygments_lexer": "ipython3",
   "version": "3.11.5"
  }
 },
 "nbformat": 4,
 "nbformat_minor": 5
}
